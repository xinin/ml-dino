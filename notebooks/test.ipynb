{
 "cells": [
  {
   "cell_type": "code",
   "execution_count": 1,
   "metadata": {},
   "outputs": [],
   "source": [
    "import pandas as pd\n",
    "import numpy as np"
   ]
  },
  {
   "cell_type": "code",
   "execution_count": 11,
   "metadata": {},
   "outputs": [
    {
     "data": {
      "text/plain": [
       "Index(['distance_next', 'y_next', 'width_next', 'height_next', 'y_dino',\n",
       "       'game_speed', 'action'],\n",
       "      dtype='object')"
      ]
     },
     "execution_count": 11,
     "metadata": {},
     "output_type": "execute_result"
    }
   ],
   "source": [
    "data = {\n",
    "        'distance_next': np.random.randint(0, 1000, size=1000),\n",
    "        'y_next': np.random.randint(0, 200, size=1000),\n",
    "        'width_next': np.random.randint(50, 100, size=1000),\n",
    "        'height_next': np.random.randint(50, 200, size=1000),\n",
    "        'y_dino':np.random.randint(0, 200, size=1000),\n",
    "        'game_speed': np.random.randint(20, 100, size=1000),\n",
    "        'action':np.random.randint(0, 3, size=1000)\n",
    "    }\n",
    "df = pd.DataFrame(data)\n",
    "\n",
    "df.columns"
   ]
  },
  {
   "cell_type": "code",
   "execution_count": 13,
   "metadata": {},
   "outputs": [
    {
     "data": {
      "text/plain": [
       "array([[ 1.71337936,  0.32270061,  0.49015858, -0.88804659,  1.17481052,\n",
       "        -1.44760384],\n",
       "       [ 1.63800849,  0.32270061,  0.49015858, -0.88804659,  1.17481052,\n",
       "        -1.44760384],\n",
       "       [ 1.56263762,  0.32270061,  0.49015858, -0.88804659,  1.17481052,\n",
       "        -1.44760384],\n",
       "       ...,\n",
       "       [ 1.34406208, -2.25196332,  0.49015858,  0.92345247, -0.57967173,\n",
       "         1.86001071],\n",
       "       [ 1.25738557, -2.25196332,  0.49015858,  0.92345247,  0.81973673,\n",
       "         1.86001071],\n",
       "       [ 1.17070907, -2.25196332,  0.49015858,  0.92345247,  0.23490932,\n",
       "         1.86001071]])"
      ]
     },
     "execution_count": 13,
     "metadata": {},
     "output_type": "execute_result"
    }
   ],
   "source": [
    "parent_data = '../training_data/1681642535/0/-275_dino_199.csv'\n",
    "mother_data = '../training_data/1681642535/0/-275_dino_205.csv'\n",
    "\n",
    "df1 = pd.read_csv(parent_data)\n",
    "df2 = pd.read_csv(mother_data)\n",
    "df = pd.concat([df1, df2], axis=0)\n",
    "_columns = [\"distance_next\",\"y_next\",\"width_next\",\"height_next\", \"y_dino\",\"game_speed\"]\n",
    "\n",
    "\n",
    "X = df[_columns]\n",
    "X.columns = ['distance_next', 'y_next', 'width_next', 'height_next', 'y_dino','game_speed']\n",
    "y = df[\"action\"]\n",
    "y.columns = ['action']\n",
    "\n",
    "\n",
    "#X\n",
    "#y = df['action']\n",
    "\n",
    "from sklearn.preprocessing import StandardScaler\n",
    "\n",
    "\n",
    "sc=StandardScaler()\n",
    "scaler = sc.fit(X)\n",
    "X_scaled = scaler.transform(X)\n",
    "\n",
    "X_scaled\n"
   ]
  },
  {
   "cell_type": "code",
   "execution_count": 44,
   "metadata": {},
   "outputs": [],
   "source": [
    "import random\n",
    "\n",
    "def choose_two_with_bias(arr):\n",
    "    #weights = [i+1 for i in range(len(arr))]\n",
    "    #weights.reverse()\n",
    "\n",
    "    weights = [int(a.split(\"/\")[-1].split(\"_\")[0]) for a in arr]\n",
    "    print(weights)\n",
    "\n",
    "    choices = random.choices(arr, weights=weights, k=2)\n",
    "    return choices[0],choices[1]"
   ]
  },
  {
   "cell_type": "code",
   "execution_count": 59,
   "metadata": {},
   "outputs": [
    {
     "name": "stdout",
     "output_type": "stream",
     "text": [
      "[6983, 233, 232, 227, 226, 182, 98, 98, 98, 98]\n",
      "6983_dino_2.csv\n",
      "6983_dino_2.csv\n"
     ]
    }
   ],
   "source": [
    "arr = ['6983_dino_2.csv','233_dino_1.csv', '232_dino_3.csv', '227_dino_6.csv', '226_dino_9.csv', '182_dino_5.csv', '98_dino_457.csv', '98_dino_718.csv', '98_dino_756.csv', '98_dino_740.csv']\n",
    "#weights = [int(a['score'].split(\"/\")[-1].split(\"_\")[0]) for a in arr]\n",
    "\n",
    "p,m = choose_two_with_bias(arr)\n",
    "print(p)\n",
    "print(m)"
   ]
  }
 ],
 "metadata": {
  "kernelspec": {
   "display_name": ".venv",
   "language": "python",
   "name": "python3"
  },
  "language_info": {
   "codemirror_mode": {
    "name": "ipython",
    "version": 3
   },
   "file_extension": ".py",
   "mimetype": "text/x-python",
   "name": "python",
   "nbconvert_exporter": "python",
   "pygments_lexer": "ipython3",
   "version": "3.10.10"
  },
  "orig_nbformat": 4
 },
 "nbformat": 4,
 "nbformat_minor": 2
}
